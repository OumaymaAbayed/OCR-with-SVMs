{
  "nbformat": 4,
  "nbformat_minor": 0,
  "metadata": {
    "colab": {
      "provenance": []
    },
    "kernelspec": {
      "name": "ir",
      "display_name": "R"
    },
    "language_info": {
      "name": "R"
    }
  },
  "cells": [
    {
      "cell_type": "markdown",
      "source": [
        "# Optical Character Recognition with Support Vector Machines\n",
        "This is a simplified Optical Character Recognition (OCR) practice, where:\n",
        "\n",
        "- the hard part is done: the document has already been split into rectangular boxes, each containing a single character.\n",
        "\n",
        "- the scope is limited to only English alphabetic characters (A–Z), so there’s no need to handle numbers, symbols, or other languages.\n",
        "\n",
        "- The focus is on simulating the part of OCR where each glyph (a visual shape of a character) is matched to one of the 26 letters in the English alphabet.\n"
      ],
      "metadata": {
        "id": "Ep47z4jGjyYP"
      }
    },
    {
      "cell_type": "markdown",
      "source": [
        "## Data Preprocessing"
      ],
      "metadata": {
        "id": "nrt6o8IVpK53"
      }
    },
    {
      "cell_type": "code",
      "execution_count": 1,
      "metadata": {
        "colab": {
          "base_uri": "https://localhost:8080/"
        },
        "id": "hs4zx1RPjtxg",
        "outputId": "718f898e-a90e-4844-f1db-9d68d763aea8"
      },
      "outputs": [
        {
          "output_type": "stream",
          "name": "stdout",
          "text": [
            "'data.frame':\t20000 obs. of  17 variables:\n",
            " $ letter: chr  \"T\" \"I\" \"D\" \"N\" ...\n",
            " $ xbox  : int  2 5 4 7 2 4 4 1 2 11 ...\n",
            " $ ybox  : int  8 12 11 11 1 11 2 1 2 15 ...\n",
            " $ width : int  3 3 6 6 3 5 5 3 4 13 ...\n",
            " $ height: int  5 7 8 6 1 8 4 2 4 9 ...\n",
            " $ onpix : int  1 2 6 3 1 3 4 1 2 7 ...\n",
            " $ xbar  : int  8 10 10 5 8 8 8 8 10 13 ...\n",
            " $ ybar  : int  13 5 6 9 6 8 7 2 6 2 ...\n",
            " $ x2bar : int  0 5 2 4 6 6 6 2 2 6 ...\n",
            " $ y2bar : int  6 4 6 6 6 9 6 2 6 2 ...\n",
            " $ xybar : int  6 13 10 4 6 5 7 8 12 12 ...\n",
            " $ x2ybar: int  10 3 3 4 5 6 6 2 4 1 ...\n",
            " $ xy2bar: int  8 9 7 10 9 6 6 8 8 9 ...\n",
            " $ xedge : int  0 2 3 6 1 0 2 1 1 8 ...\n",
            " $ xedgey: int  8 8 7 10 7 8 8 6 6 1 ...\n",
            " $ yedge : int  0 4 3 2 5 9 7 2 1 1 ...\n",
            " $ yedgex: int  8 10 9 8 10 7 10 7 7 8 ...\n"
          ]
        }
      ],
      "source": [
        " letters <- read.csv(\"letter-recognition.csv\")\n",
        " str(letters)"
      ]
    },
    {
      "cell_type": "code",
      "source": [
        "# Convert character column to factor\n",
        "letters$letter <- factor(letters$letter)\n",
        "\n",
        "# View the structure after conversion\n",
        "str(letters)"
      ],
      "metadata": {
        "colab": {
          "base_uri": "https://localhost:8080/"
        },
        "id": "GQ4qaBxfsTEZ",
        "outputId": "ae3bb354-df98-475f-9a8c-a3f359b54bd7"
      },
      "execution_count": 9,
      "outputs": [
        {
          "output_type": "stream",
          "name": "stdout",
          "text": [
            "'data.frame':\t20000 obs. of  17 variables:\n",
            " $ letter: Factor w/ 26 levels \"A\",\"B\",\"C\",\"D\",..: 20 9 4 14 7 19 2 1 10 13 ...\n",
            " $ xbox  : int  2 5 4 7 2 4 4 1 2 11 ...\n",
            " $ ybox  : int  8 12 11 11 1 11 2 1 2 15 ...\n",
            " $ width : int  3 3 6 6 3 5 5 3 4 13 ...\n",
            " $ height: int  5 7 8 6 1 8 4 2 4 9 ...\n",
            " $ onpix : int  1 2 6 3 1 3 4 1 2 7 ...\n",
            " $ xbar  : int  8 10 10 5 8 8 8 8 10 13 ...\n",
            " $ ybar  : int  13 5 6 9 6 8 7 2 6 2 ...\n",
            " $ x2bar : int  0 5 2 4 6 6 6 2 2 6 ...\n",
            " $ y2bar : int  6 4 6 6 6 9 6 2 6 2 ...\n",
            " $ xybar : int  6 13 10 4 6 5 7 8 12 12 ...\n",
            " $ x2ybar: int  10 3 3 4 5 6 6 2 4 1 ...\n",
            " $ xy2bar: int  8 9 7 10 9 6 6 8 8 9 ...\n",
            " $ xedge : int  0 2 3 6 1 0 2 1 1 8 ...\n",
            " $ xedgey: int  8 8 7 10 7 8 8 6 6 1 ...\n",
            " $ yedge : int  0 4 3 2 5 9 7 2 1 1 ...\n",
            " $ yedgex: int  8 10 9 8 10 7 10 7 7 8 ...\n"
          ]
        }
      ]
    },
    {
      "cell_type": "markdown",
      "source": [
        "Given that the data preparation has been largely done for us, we can skip directly to\n",
        "the training and testing phases of the machine learning process"
      ],
      "metadata": {
        "id": "6iSiue4zpInv"
      }
    },
    {
      "cell_type": "markdown",
      "source": [
        "# Model training\n",
        "Frey and Slate have already randomized the data and therefore suggest using the first 16,000 records (80 percent) for building the model and the next 4,000 records (20 percent) for testing."
      ],
      "metadata": {
        "id": "7ew2R_DGpNsM"
      }
    },
    {
      "cell_type": "code",
      "source": [
        "letters_train <- letters[1:16000, ]\n",
        "letters_test <- letters[16001:20000, ]"
      ],
      "metadata": {
        "id": "2fp29v5ipJVr"
      },
      "execution_count": 10,
      "outputs": []
    },
    {
      "cell_type": "code",
      "source": [
        "install.packages(\"kernlab\")\n",
        "library(kernlab)"
      ],
      "metadata": {
        "colab": {
          "base_uri": "https://localhost:8080/"
        },
        "id": "woDSpTNppV3k",
        "outputId": "c499cc44-31c4-4491-c241-115c58e4db4c"
      },
      "execution_count": 3,
      "outputs": [
        {
          "output_type": "stream",
          "name": "stderr",
          "text": [
            "Installing package into ‘/usr/local/lib/R/site-library’\n",
            "(as ‘lib’ is unspecified)\n",
            "\n"
          ]
        }
      ]
    },
    {
      "cell_type": "code",
      "source": [
        "letter_classifier <- ksvm(letter ~ ., data = letters_train, kernel = \"vanilladot\")\n",
        "letter_classifier"
      ],
      "metadata": {
        "colab": {
          "base_uri": "https://localhost:8080/",
          "height": 849
        },
        "id": "BYxhArkip-lQ",
        "outputId": "040f70ee-9ec1-4dc4-f6da-f0b9d6b0ba50"
      },
      "execution_count": 11,
      "outputs": [
        {
          "output_type": "stream",
          "name": "stdout",
          "text": [
            " Setting default kernel parameters  \n"
          ]
        },
        {
          "output_type": "display_data",
          "data": {
            "text/plain": [
              "Support Vector Machine object of class \"ksvm\" \n",
              "\n",
              "SV type: C-svc  (classification) \n",
              " parameter : cost C = 1 \n",
              "\n",
              "Linear (vanilla) kernel function. \n",
              "\n",
              "Number of Support Vectors : 7037 \n",
              "\n",
              "Objective Function Value : -14.1746 -20.0072 -23.5628 -6.2009 -7.5524 -32.7694 -49.9786 -18.1824 -62.1111 -32.7284 -16.2209 -32.2837 -28.9777 -51.2195 -13.276 -35.6217 -30.8612 -16.5256 -14.6811 -32.7475 -30.3219 -7.7956 -11.8138 -32.3463 -13.1262 -9.2692 -153.1654 -52.9678 -76.7744 -119.2067 -165.4437 -54.6237 -41.9809 -67.2688 -25.1959 -27.6371 -26.4102 -35.5583 -41.2597 -122.164 -187.9178 -222.0856 -21.4765 -10.3752 -56.3684 -12.2277 -49.4899 -9.3372 -19.2092 -11.1776 -100.2186 -29.1397 -238.0516 -77.1985 -8.3339 -4.5308 -139.8534 -80.8854 -20.3642 -13.0245 -82.5151 -14.5032 -26.7509 -18.5713 -23.9511 -27.3034 -53.2731 -11.4773 -5.12 -13.9504 -4.4982 -3.5755 -8.4914 -40.9716 -49.8182 -190.0269 -43.8594 -44.8667 -45.2596 -13.5561 -17.7664 -87.4105 -107.1056 -37.0245 -30.7133 -112.3218 -32.9619 -27.2971 -35.5836 -17.8586 -5.1391 -43.4094 -7.7843 -16.6785 -58.5103 -159.9936 -49.0782 -37.8426 -32.8002 -74.5249 -133.3423 -11.1638 -5.3575 -12.438 -30.9907 -141.6924 -54.2953 -179.0114 -99.8896 -10.288 -15.1553 -3.7815 -67.6123 -7.696 -88.9304 -47.6448 -94.3718 -70.2733 -71.5057 -21.7854 -12.7657 -7.4383 -23.502 -13.1055 -239.9708 -30.4193 -25.2113 -136.2795 -140.9565 -9.8122 -34.4584 -6.3039 -60.8421 -66.5793 -27.2816 -214.3225 -34.7796 -16.7631 -135.7821 -160.6279 -45.2949 -25.1023 -144.9059 -82.2352 -327.7154 -142.0613 -158.8821 -32.2181 -32.8887 -52.9641 -25.4937 -47.9936 -6.8991 -9.7293 -36.436 -70.3907 -187.7611 -46.9371 -89.8103 -143.4213 -624.3645 -119.2204 -145.4435 -327.7748 -33.3255 -64.0607 -145.4831 -116.5903 -36.2977 -66.3762 -44.8248 -7.5088 -217.9246 -12.9699 -30.504 -2.0369 -6.126 -14.4448 -21.6337 -57.3084 -20.6915 -184.3625 -20.1052 -4.1484 -4.5344 -0.828 -121.4411 -7.9486 -58.5604 -21.4878 -13.5476 -5.646 -15.629 -28.9576 -20.5959 -76.7111 -27.0119 -94.7101 -15.1713 -10.0222 -7.6394 -1.5784 -87.6952 -6.2239 -99.3711 -101.0906 -45.6639 -24.0725 -61.7702 -24.1583 -52.2368 -234.3264 -39.9749 -48.8556 -34.1464 -20.9664 -11.4525 -123.0277 -6.4903 -5.1865 -8.8016 -9.4618 -21.7742 -24.2361 -123.3984 -31.4404 -88.3901 -30.0924 -13.8198 -9.2701 -3.0823 -87.9624 -6.3845 -13.968 -65.0702 -105.523 -13.7403 -13.7625 -50.4223 -2.933 -8.4289 -80.3381 -36.4147 -112.7485 -4.1711 -7.8989 -1.2676 -90.8037 -21.4919 -7.2235 -47.9557 -3.383 -20.433 -64.6138 -45.5781 -56.1309 -6.1345 -18.6307 -2.374 -72.2553 -111.1885 -106.7664 -23.1323 -19.3765 -54.9819 -34.2953 -64.4756 -20.4115 -6.689 -4.378 -59.141 -34.2468 -58.1509 -33.8665 -10.6902 -53.1387 -13.7478 -20.1987 -55.0923 -3.8058 -60.0382 -235.4841 -12.6837 -11.7407 -17.3058 -9.7167 -65.8498 -17.1051 -42.8131 -53.1054 -25.0437 -15.302 -44.0749 -16.9582 -62.9773 -5.204 -5.2963 -86.1704 -3.7209 -6.3445 -1.1264 -122.5771 -23.9041 -355.0145 -31.1013 -32.619 -4.9664 -84.1048 -134.5957 -72.8371 -23.9002 -35.3077 -11.7119 -22.2889 -1.8598 -59.2174 -8.8994 -150.742 -1.8533 -1.9711 -9.9676 -0.5207 -26.9229 -30.429 -5.6289 \n",
              "Training error : 0.130062 "
            ]
          },
          "metadata": {}
        }
      ]
    },
    {
      "cell_type": "markdown",
      "source": [
        "This information tells us very little about how well the model will perform in the real world. We'll need to examine its performance on the testing dataset to know whether it generalizes well to unseen data."
      ],
      "metadata": {
        "id": "qBn1G2hLtEqZ"
      }
    },
    {
      "cell_type": "markdown",
      "source": [
        "## Evaluating Model Performance"
      ],
      "metadata": {
        "id": "tfgxNk0JtpCZ"
      }
    },
    {
      "cell_type": "code",
      "source": [
        "letter_predictions <- predict(letter_classifier, letters_test)"
      ],
      "metadata": {
        "id": "-WzdqSfQsFPC"
      },
      "execution_count": 12,
      "outputs": []
    },
    {
      "cell_type": "code",
      "source": [
        "head(letter_predictions)"
      ],
      "metadata": {
        "colab": {
          "base_uri": "https://localhost:8080/",
          "height": 86
        },
        "id": "HaSlaRwNtyS8",
        "outputId": "dd6ea988-fed8-4760-b3cd-7b9bc90dbbd0"
      },
      "execution_count": 14,
      "outputs": [
        {
          "output_type": "display_data",
          "data": {
            "text/html": [
              "<style>\n",
              ".list-inline {list-style: none; margin:0; padding: 0}\n",
              ".list-inline>li {display: inline-block}\n",
              ".list-inline>li:not(:last-child)::after {content: \"\\00b7\"; padding: 0 .5ex}\n",
              "</style>\n",
              "<ol class=list-inline><li>U</li><li>N</li><li>V</li><li>X</li><li>N</li><li>H</li></ol>\n",
              "\n",
              "<details>\n",
              "\t<summary style=display:list-item;cursor:pointer>\n",
              "\t\t<strong>Levels</strong>:\n",
              "\t</summary>\n",
              "\t<style>\n",
              "\t.list-inline {list-style: none; margin:0; padding: 0}\n",
              "\t.list-inline>li {display: inline-block}\n",
              "\t.list-inline>li:not(:last-child)::after {content: \"\\00b7\"; padding: 0 .5ex}\n",
              "\t</style>\n",
              "\t<ol class=list-inline><li>'A'</li><li>'B'</li><li>'C'</li><li>'D'</li><li>'E'</li><li>'F'</li><li>'G'</li><li>'H'</li><li>'I'</li><li>'J'</li><li>'K'</li><li>'L'</li><li>'M'</li><li>'N'</li><li>'O'</li><li>'P'</li><li>'Q'</li><li>'R'</li><li>'S'</li><li>'T'</li><li>'U'</li><li>'V'</li><li>'W'</li><li>'X'</li><li>'Y'</li><li>'Z'</li></ol>\n",
              "</details>"
            ],
            "text/markdown": "1. U\n2. N\n3. V\n4. X\n5. N\n6. H\n\n\n\n**Levels**: 1. 'A'\n2. 'B'\n3. 'C'\n4. 'D'\n5. 'E'\n6. 'F'\n7. 'G'\n8. 'H'\n9. 'I'\n10. 'J'\n11. 'K'\n12. 'L'\n13. 'M'\n14. 'N'\n15. 'O'\n16. 'P'\n17. 'Q'\n18. 'R'\n19. 'S'\n20. 'T'\n21. 'U'\n22. 'V'\n23. 'W'\n24. 'X'\n25. 'Y'\n26. 'Z'\n\n\n",
            "text/latex": "\\begin{enumerate*}\n\\item U\n\\item N\n\\item V\n\\item X\n\\item N\n\\item H\n\\end{enumerate*}\n\n\\emph{Levels}: \\begin{enumerate*}\n\\item 'A'\n\\item 'B'\n\\item 'C'\n\\item 'D'\n\\item 'E'\n\\item 'F'\n\\item 'G'\n\\item 'H'\n\\item 'I'\n\\item 'J'\n\\item 'K'\n\\item 'L'\n\\item 'M'\n\\item 'N'\n\\item 'O'\n\\item 'P'\n\\item 'Q'\n\\item 'R'\n\\item 'S'\n\\item 'T'\n\\item 'U'\n\\item 'V'\n\\item 'W'\n\\item 'X'\n\\item 'Y'\n\\item 'Z'\n\\end{enumerate*}\n",
            "text/plain": [
              "[1] U N V X N H\n",
              "Levels: A B C D E F G H I J K L M N O P Q R S T U V W X Y Z"
            ]
          },
          "metadata": {}
        }
      ]
    },
    {
      "cell_type": "markdown",
      "source": [
        "In order to examine how well our classifier performed, we need to compare the predicted letter to the true letter in the testing dataset. We'll use the table()\n",
        "function for this purpose."
      ],
      "metadata": {
        "id": "FZ6BKFARt5nP"
      }
    },
    {
      "cell_type": "code",
      "source": [
        "table(letter_predictions, letters_test$letter)"
      ],
      "metadata": {
        "colab": {
          "base_uri": "https://localhost:8080/",
          "height": 988
        },
        "id": "PMh4rYRqtztf",
        "outputId": "18fddb29-5002-410b-cce4-01532443dea6"
      },
      "execution_count": 15,
      "outputs": [
        {
          "output_type": "display_data",
          "data": {
            "text/plain": [
              "                  \n",
              "letter_predictions   A   B   C   D   E   F   G   H   I   J   K   L   M   N   O\n",
              "                 A 144   0   0   0   0   0   0   0   0   1   0   0   1   2   2\n",
              "                 B   0 121   0   5   2   0   1   2   0   0   1   0   1   0   0\n",
              "                 C   0   0 120   0   4   0  10   2   2   0   1   3   0   0   2\n",
              "                 D   2   2   0 156   0   1   3  10   4   3   4   3   0   5   5\n",
              "                 E   0   0   5   0 127   3   1   1   0   0   3   4   0   0   0\n",
              "                 F   0   0   0   0   0 138   2   2   6   0   0   0   0   0   0\n",
              "                 G   1   1   2   1   9   2 123   2   0   0   1   2   1   0   1\n",
              "                 H   0   0   0   1   0   1   0 102   0   2   3   2   3   4  20\n",
              "                 I   0   1   0   0   0   1   0   0 141   8   0   0   0   0   0\n",
              "                 J   0   1   0   0   0   1   0   2   5 128   0   0   0   0   1\n",
              "                 K   1   1   9   0   0   0   2   5   0   0 118   0   0   2   0\n",
              "                 L   0   0   0   0   2   0   1   1   0   0   0 133   0   0   0\n",
              "                 M   0   0   1   1   0   0   1   1   0   0   0   0 135   4   0\n",
              "                 N   0   0   0   0   0   1   0   1   0   0   0   0   0 145   0\n",
              "                 O   1   0   2   1   0   0   1   2   0   1   0   0   0   1  99\n",
              "                 P   0   0   0   1   0   2   1   0   0   0   0   0   0   0   2\n",
              "                 Q   0   0   0   0   0   0   8   2   0   0   0   3   0   0   3\n",
              "                 R   0   7   0   0   1   0   3   8   0   0  13   0   0   1   1\n",
              "                 S   1   1   0   0   1   0   3   0   1   1   0   1   0   0   0\n",
              "                 T   0   0   0   0   3   2   0   0   0   0   1   0   0   0   0\n",
              "                 U   1   0   3   1   0   0   0   2   0   0   0   0   0   0   1\n",
              "                 V   0   0   0   0   0   1   3   4   0   0   0   0   1   2   1\n",
              "                 W   0   0   0   0   0   0   1   0   0   0   0   0   2   0   0\n",
              "                 X   0   1   0   0   2   0   0   1   3   0   1   6   0   0   1\n",
              "                 Y   3   0   0   0   0   0   0   1   0   0   0   0   0   0   0\n",
              "                 Z   2   0   0   0   1   0   0   0   3   4   0   0   0   0   0\n",
              "                  \n",
              "letter_predictions   P   Q   R   S   T   U   V   W   X   Y   Z\n",
              "                 A   0   5   0   1   1   1   0   1   0   0   1\n",
              "                 B   2   2   3   5   0   0   2   0   1   0   0\n",
              "                 C   0   0   0   0   0   0   0   0   0   0   0\n",
              "                 D   3   1   4   0   0   0   0   0   3   3   1\n",
              "                 E   0   2   0  10   0   0   0   0   2   0   3\n",
              "                 F  16   0   0   3   0   0   1   0   1   2   0\n",
              "                 G   2   8   2   4   3   0   0   0   1   0   0\n",
              "                 H   0   2   3   0   3   0   2   0   0   1   0\n",
              "                 I   1   0   0   3   0   0   0   0   5   1   1\n",
              "                 J   1   3   0   2   0   0   0   0   1   0   6\n",
              "                 K   1   0   7   0   1   3   0   0   5   0   0\n",
              "                 L   0   1   0   5   0   0   0   0   0   0   1\n",
              "                 M   0   0   0   0   0   3   0   8   0   0   0\n",
              "                 N   0   0   3   0   0   1   0   2   0   0   0\n",
              "                 O   3   3   0   0   0   3   0   0   0   0   0\n",
              "                 P 130   0   0   0   0   0   0   0   0   1   0\n",
              "                 Q   1 124   0   5   0   0   0   0   0   2   0\n",
              "                 R   1   0 138   0   1   0   1   0   0   0   0\n",
              "                 S   0  14   0 101   3   0   0   0   2   0  10\n",
              "                 T   0   0   0   3 133   1   0   0   0   2   2\n",
              "                 U   0   0   0   0   0 152   0   0   1   1   0\n",
              "                 V   0   3   1   0   0   0 126   1   0   4   0\n",
              "                 W   0   0   0   0   0   4   4 127   0   0   0\n",
              "                 X   0   0   0   1   0   0   0   0 137   1   1\n",
              "                 Y   7   0   0   0   3   0   0   0   0 127   0\n",
              "                 Z   0   0   0  18   3   0   0   0   0   0 132"
            ]
          },
          "metadata": {}
        }
      ]
    },
    {
      "cell_type": "code",
      "source": [
        "agreement <- letter_predictions == letters_test$letter\n",
        "table(agreement)\n",
        "prop.table(table(agreement))"
      ],
      "metadata": {
        "colab": {
          "base_uri": "https://localhost:8080/",
          "height": 121
        },
        "id": "4koR1W-yt_Pn",
        "outputId": "9910c4f7-a366-455f-ae12-93a3472ddf3d"
      },
      "execution_count": 17,
      "outputs": [
        {
          "output_type": "display_data",
          "data": {
            "text/plain": [
              "agreement\n",
              "FALSE  TRUE \n",
              "  643  3357 "
            ]
          },
          "metadata": {}
        },
        {
          "output_type": "display_data",
          "data": {
            "text/plain": [
              "agreement\n",
              "  FALSE    TRUE \n",
              "0.16075 0.83925 "
            ]
          },
          "metadata": {}
        }
      ]
    },
    {
      "cell_type": "markdown",
      "source": [
        "## Improving Model Performance"
      ],
      "metadata": {
        "id": "oU-TcezPuVlw"
      }
    },
    {
      "cell_type": "markdown",
      "source": [
        "### Gaussian RBF Kernel"
      ],
      "metadata": {
        "id": "ZOC3VeVdu38c"
      }
    },
    {
      "cell_type": "code",
      "source": [
        "letter_classifier_rbf <- ksvm(letter ~ ., data = letters_train, kernel= \"rbfdot\")"
      ],
      "metadata": {
        "id": "fEWwobLnuLgv"
      },
      "execution_count": 18,
      "outputs": []
    },
    {
      "cell_type": "code",
      "source": [
        "letter_predictions_rbf <- predict(letter_classifier_rbf, letters_test)"
      ],
      "metadata": {
        "id": "XvE7KVH1vGNA"
      },
      "execution_count": 19,
      "outputs": []
    },
    {
      "cell_type": "code",
      "source": [
        "agreement_rbf <- letter_predictions_rbf == letters_test$letter\n",
        "table(agreement_rbf)\n",
        "prop.table(table(agreement_rbf))"
      ],
      "metadata": {
        "colab": {
          "base_uri": "https://localhost:8080/",
          "height": 121
        },
        "id": "fdMv3R2BvOa3",
        "outputId": "ea01d62e-9612-4c87-d034-2eae6057becb"
      },
      "execution_count": 20,
      "outputs": [
        {
          "output_type": "display_data",
          "data": {
            "text/plain": [
              "agreement_rbf\n",
              "FALSE  TRUE \n",
              "  278  3722 "
            ]
          },
          "metadata": {}
        },
        {
          "output_type": "display_data",
          "data": {
            "text/plain": [
              "agreement_rbf\n",
              " FALSE   TRUE \n",
              "0.0695 0.9305 "
            ]
          },
          "metadata": {}
        }
      ]
    },
    {
      "cell_type": "markdown",
      "source": [
        "By modifying the kernel function, we improved the accuracy of our character recognition model from 84% to 93%. If this performance is still not sufficient for the OCR program, we could explore additional kernel options or adjust the cost of the constraints parameter C to change the width of the decision boundary."
      ],
      "metadata": {
        "id": "wcVPsFZvvako"
      }
    }
  ]
}